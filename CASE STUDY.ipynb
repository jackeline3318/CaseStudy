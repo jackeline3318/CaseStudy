{
 "cells": [
  {
   "cell_type": "code",
   "execution_count": 1,
   "id": "ad98e056",
   "metadata": {},
   "outputs": [],
   "source": [
    "import pandas as pd"
   ]
  },
  {
   "cell_type": "code",
   "execution_count": 30,
   "id": "33960940",
   "metadata": {},
   "outputs": [],
   "source": [
    "bf = pd.read_csv(r\"C:\\Users\\gisse\\Downloads\\FBS.csv\")"
   ]
  },
  {
   "cell_type": "code",
   "execution_count": 31,
   "id": "040bb354",
   "metadata": {},
   "outputs": [
    {
     "data": {
      "text/html": [
       "<div>\n",
       "<style scoped>\n",
       "    .dataframe tbody tr th:only-of-type {\n",
       "        vertical-align: middle;\n",
       "    }\n",
       "\n",
       "    .dataframe tbody tr th {\n",
       "        vertical-align: top;\n",
       "    }\n",
       "\n",
       "    .dataframe thead th {\n",
       "        text-align: right;\n",
       "    }\n",
       "</style>\n",
       "<table border=\"1\" class=\"dataframe\">\n",
       "  <thead>\n",
       "    <tr style=\"text-align: right;\">\n",
       "      <th></th>\n",
       "      <th>School</th>\n",
       "      <th>StadiumCapacity</th>\n",
       "      <th>Longitude</th>\n",
       "      <th>Latitude</th>\n",
       "      <th>AthleticRevenue ($)</th>\n",
       "      <th>Endowment ($000)</th>\n",
       "      <th>Enrollment</th>\n",
       "    </tr>\n",
       "  </thead>\n",
       "  <tbody>\n",
       "    <tr>\n",
       "      <th>0</th>\n",
       "      <td>Air Force Falcons</td>\n",
       "      <td>52480</td>\n",
       "      <td>-104.759899</td>\n",
       "      <td>38.863200</td>\n",
       "      <td>39823782.0</td>\n",
       "      <td>56600</td>\n",
       "      <td>4413</td>\n",
       "    </tr>\n",
       "    <tr>\n",
       "      <th>1</th>\n",
       "      <td>Akron Zips</td>\n",
       "      <td>30000</td>\n",
       "      <td>-81.521499</td>\n",
       "      <td>41.080400</td>\n",
       "      <td>25583730.0</td>\n",
       "      <td>171513</td>\n",
       "      <td>27470</td>\n",
       "    </tr>\n",
       "    <tr>\n",
       "      <th>2</th>\n",
       "      <td>Alabama Crimson Tide</td>\n",
       "      <td>101821</td>\n",
       "      <td>-87.540979</td>\n",
       "      <td>33.237700</td>\n",
       "      <td>124498616.0</td>\n",
       "      <td>995147</td>\n",
       "      <td>31647</td>\n",
       "    </tr>\n",
       "    <tr>\n",
       "      <th>3</th>\n",
       "      <td>Arizona State Sun Devils</td>\n",
       "      <td>73379</td>\n",
       "      <td>-111.930639</td>\n",
       "      <td>33.388350</td>\n",
       "      <td>55294113.0</td>\n",
       "      <td>514724</td>\n",
       "      <td>72254</td>\n",
       "    </tr>\n",
       "    <tr>\n",
       "      <th>4</th>\n",
       "      <td>Arizona Wildcats</td>\n",
       "      <td>57803</td>\n",
       "      <td>-110.891717</td>\n",
       "      <td>32.195816</td>\n",
       "      <td>59663128.0</td>\n",
       "      <td>552351</td>\n",
       "      <td>39236</td>\n",
       "    </tr>\n",
       "    <tr>\n",
       "      <th>...</th>\n",
       "      <td>...</td>\n",
       "      <td>...</td>\n",
       "      <td>...</td>\n",
       "      <td>...</td>\n",
       "      <td>...</td>\n",
       "      <td>...</td>\n",
       "      <td>...</td>\n",
       "    </tr>\n",
       "    <tr>\n",
       "      <th>122</th>\n",
       "      <td>West Virginia Mountaineers</td>\n",
       "      <td>60540</td>\n",
       "      <td>-79.949772</td>\n",
       "      <td>39.635649</td>\n",
       "      <td>60451426.0</td>\n",
       "      <td>392001</td>\n",
       "      <td>29617</td>\n",
       "    </tr>\n",
       "    <tr>\n",
       "      <th>123</th>\n",
       "      <td>Western Kentucky Hilltoppers</td>\n",
       "      <td>22000</td>\n",
       "      <td>-86.441242</td>\n",
       "      <td>36.973703</td>\n",
       "      <td>22269484.0</td>\n",
       "      <td>114415</td>\n",
       "      <td>21036</td>\n",
       "    </tr>\n",
       "    <tr>\n",
       "      <th>124</th>\n",
       "      <td>Western Michigan Broncos</td>\n",
       "      <td>30100</td>\n",
       "      <td>-85.588287</td>\n",
       "      <td>42.274700</td>\n",
       "      <td>25627752.0</td>\n",
       "      <td>198436</td>\n",
       "      <td>25086</td>\n",
       "    </tr>\n",
       "    <tr>\n",
       "      <th>125</th>\n",
       "      <td>Wisconsin Badgers</td>\n",
       "      <td>80321</td>\n",
       "      <td>-89.387519</td>\n",
       "      <td>43.079800</td>\n",
       "      <td>96288191.0</td>\n",
       "      <td>1872933</td>\n",
       "      <td>42441</td>\n",
       "    </tr>\n",
       "    <tr>\n",
       "      <th>126</th>\n",
       "      <td>Wyoming Cowboys</td>\n",
       "      <td>32580</td>\n",
       "      <td>-105.583037</td>\n",
       "      <td>41.310880</td>\n",
       "      <td>27577001.0</td>\n",
       "      <td>321781</td>\n",
       "      <td>12925</td>\n",
       "    </tr>\n",
       "  </tbody>\n",
       "</table>\n",
       "<p>127 rows × 7 columns</p>\n",
       "</div>"
      ],
      "text/plain": [
       "                           School  StadiumCapacity   Longitude   Latitude  \\\n",
       "0              Air Force Falcons             52480 -104.759899  38.863200   \n",
       "1                     Akron Zips             30000  -81.521499  41.080400   \n",
       "2            Alabama Crimson Tide           101821  -87.540979  33.237700   \n",
       "3        Arizona State Sun Devils            73379 -111.930639  33.388350   \n",
       "4                Arizona Wildcats            57803 -110.891717  32.195816   \n",
       "..                            ...              ...         ...        ...   \n",
       "122    West Virginia Mountaineers            60540  -79.949772  39.635649   \n",
       "123  Western Kentucky Hilltoppers            22000  -86.441242  36.973703   \n",
       "124     Western Michigan Broncos             30100  -85.588287  42.274700   \n",
       "125             Wisconsin Badgers            80321  -89.387519  43.079800   \n",
       "126              Wyoming Cowboys             32580 -105.583037  41.310880   \n",
       "\n",
       "     AthleticRevenue ($)  Endowment ($000)  Enrollment  \n",
       "0             39823782.0             56600        4413  \n",
       "1             25583730.0            171513       27470  \n",
       "2            124498616.0            995147       31647  \n",
       "3             55294113.0            514724       72254  \n",
       "4             59663128.0            552351       39236  \n",
       "..                   ...               ...         ...  \n",
       "122           60451426.0            392001       29617  \n",
       "123           22269484.0            114415       21036  \n",
       "124           25627752.0            198436       25086  \n",
       "125           96288191.0           1872933       42441  \n",
       "126           27577001.0            321781       12925  \n",
       "\n",
       "[127 rows x 7 columns]"
      ]
     },
     "execution_count": 31,
     "metadata": {},
     "output_type": "execute_result"
    }
   ],
   "source": [
    "bf"
   ]
  },
  {
   "cell_type": "code",
   "execution_count": 33,
   "id": "4e66c598",
   "metadata": {},
   "outputs": [],
   "source": [
    "import pandas as pd\n",
    "\n",
    "\n",
    "df = pd.read_csv(r\"C:\\Users\\gisse\\Downloads\\FBS.csv\")\n",
    "\n"
   ]
  },
  {
   "cell_type": "code",
   "execution_count": 15,
   "id": "f9577d4d",
   "metadata": {},
   "outputs": [
    {
     "name": "stdout",
     "output_type": "stream",
     "text": [
      "Index(['School', 'StadiumCapacity', 'Longitude', 'Latitude',\n",
      "       'AthleticRevenue ($)', 'Endowment ($000)', 'Enrollment'],\n",
      "      dtype='object')\n"
     ]
    }
   ],
   "source": [
    "print(bf.columns)\n"
   ]
  },
  {
   "cell_type": "code",
   "execution_count": 34,
   "id": "1ccd62dd",
   "metadata": {},
   "outputs": [],
   "source": [
    "data = df[['StadiumCapacity', 'Latitude', 'Longitude', 'Endowment ($000)', 'Enrollment']]\n"
   ]
  },
  {
   "cell_type": "code",
   "execution_count": 5,
   "id": "27e4a34a",
   "metadata": {},
   "outputs": [
    {
     "data": {
      "image/png": "[encoded data removed]",
      "text/plain": [
       "<Figure size 640x480 with 1 Axes>"
      ]
     },
     "metadata": {},
     "output_type": "display_data"
    }
   ],
   "source": [
    "from scipy.spatial.distance import pdist\n",
    "from scipy.cluster.hierarchy import linkage, dendrogram\n",
    "import matplotlib.pyplot as plt\n",
    "\n",
    "\n",
    "distances = pdist(data, metric='euclidean')\n",
    "\n",
    "\n",
    "linkage_matrix = linkage(distances, method='complete')\n",
    "\n",
    "dendrogram(linkage_matrix, labels=data.index, orientation='top')\n",
    "plt.show()\n"
   ]
  },
  {
   "cell_type": "code",
   "execution_count": 38,
   "id": "921e4ac5",
   "metadata": {},
   "outputs": [
    {
     "name": "stdout",
     "output_type": "stream",
     "text": [
      "This resulted in 10-school clusters that have been labed again cluster 10\n"
     ]
    }
   ],
   "source": [
    "print(\"This resulted in 10-school clusters that have been labed again cluster 10\")"
   ]
  },
  {
   "cell_type": "code",
   "execution_count": 41,
   "id": "c1811586",
   "metadata": {},
   "outputs": [
    {
     "name": "stdout",
     "output_type": "stream",
     "text": [
      "Cluster 16 was combined with the 10-school cluster 20. This resulted in 11-school cluster been labelled again cluster 16\n"
     ]
    }
   ],
   "source": [
    "print(\"Cluster 16 was combined with the 10-school cluster 20. This resulted in 11-school cluster been labelled again cluster 16\")"
   ]
  },
  {
   "cell_type": "code",
   "execution_count": 42,
   "id": "a08055c2",
   "metadata": {},
   "outputs": [
    {
     "name": "stdout",
     "output_type": "stream",
     "text": [
      "It  can be observed as the cluster 16 having 11 teams which is comprising of the ten original ten teams as well as pittsburgh s combined with cluster 31 which comprises of Tennesse as well as Penn States\n"
     ]
    }
   ],
   "source": [
    "print(\"It  can be observed as the cluster 16 having 11 teams which is comprising of the ten original ten teams as well as pittsburgh s combined with cluster 31 which comprises of Tennesse as well as Penn States\")"
   ]
  },
  {
   "cell_type": "code",
   "execution_count": 44,
   "id": "3bb0da7e",
   "metadata": {},
   "outputs": [
    {
     "name": "stdout",
     "output_type": "stream",
     "text": [
      "The 13 team cluster 16 which is combined with the 33 team cluster 2 which results in 46 team group which is labelled cluster 2\n"
     ]
    }
   ],
   "source": [
    "print(\"The 13 team cluster 16 which is combined with the 33 team cluster 2 which results in 46 team group which is labelled cluster 2\")"
   ]
  },
  {
   "cell_type": "code",
   "execution_count": 45,
   "id": "f264236c",
   "metadata": {},
   "outputs": [
    {
     "name": "stdout",
     "output_type": "stream",
     "text": [
      " Cluster 31 which is Penn State was combined with the cluster 55 for the formation of a 2 school which was labelled as cluster 31\n"
     ]
    }
   ],
   "source": [
    "print(\" Cluster 31 which is Penn State was combined with the cluster 55 for the formation of a 2 school which was labelled as cluster 31\")"
   ]
  },
  {
   "cell_type": "code",
   "execution_count": null,
   "id": "173dd3d9",
   "metadata": {},
   "outputs": [],
   "source": []
  }
 ],
 "metadata": {
  "kernelspec": {
   "display_name": "Python 3 (ipykernel)",
   "language": "python",
   "name": "python3"
  },
  "language_info": {
   "codemirror_mode": {
    "name": "ipython",
    "version": 3
   },
   "file_extension": ".py",
   "mimetype": "text/x-python",
   "name": "python",
   "nbconvert_exporter": "python",
   "pygments_lexer": "ipython3",
   "version": "3.11.4"
  }
 },
 "nbformat": 4,
 "nbformat_minor": 5
}
